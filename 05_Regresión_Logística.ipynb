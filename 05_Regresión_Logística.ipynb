{
 "cells": [
  {
   "cell_type": "markdown",
   "id": "49be23a0-71c2-4176-b8df-48e477e16589",
   "metadata": {},
   "source": [
    "# Regresión Logística: Detección de SPAM\n",
    "\n",
    "En este ejercico se muestran los fundamentos de la regresión logística planteando uno de los primeros problemas que fueron solucionados mediante el uso de técnicas de Machine Learning: La detección de SPAM.\n",
    "\n",
    "## Enunciado del ejercicio\n",
    "\n",
    "Se propone la construcción de un sistema de aprendizaje automático capaz de predicir si un correo determinado se corresponde con un correo SPAM o no, para ello se utilizará el siguiente DataSet:\n",
    "\n",
    "##### [2007/ TREC Public Spam Corpus](https://plg.uwaterloo.ca/~gvcormac/treccorpus07/)\n",
    "\n",
    "The corpus trec07p contains 75,419 messages:\n",
    "\n",
    "    25220 ham\n",
    "    50199 spam\n",
    "\n",
    "These messages constitute all the messages delivered to a particular\n",
    "server between these dates:\n",
    "\n",
    "    Sun, 8 Apr 2007 13:07:21 -0400\n",
    "    Fri, 6 Jul 2007 07:04:53 -0400"
   ]
  },
  {
   "cell_type": "code",
   "execution_count": 6,
   "id": "7e6f57da-959b-452e-bcd5-9fee8a4055a2",
   "metadata": {},
   "outputs": [],
   "source": [
    "#En esta fase se clasifica el preprocesamiento de correos electronicos que posen codigo HTML\n",
    "\n",
    "from html.parser import HTMLParser\n",
    "\n",
    "class MLStripper(HTMLParser):\n",
    "    def __init__(self):\n",
    "        self.reset()\n",
    "        self.strict = False\n",
    "        self.convert_charrefs = True\n",
    "        self.fed = []   # Ingesta de datos\n",
    "        \n",
    "    def handle_data(self, d): # Ingerir datos\n",
    "        self.fed.append(d)\n",
    "        \n",
    "    def get_data(self):\n",
    "        return ''.join(self.fed)\n"
   ]
  },
  {
   "cell_type": "code",
   "execution_count": 16,
   "id": "075d3607-3a16-42cd-acd7-7a6493ed1852",
   "metadata": {},
   "outputs": [],
   "source": [
    "# Esta función se encarga de eliminar los tags en HTML que se encuentren en el texto de los correos electrónicos\n",
    "def strip_tags(html):\n",
    "    s = MLStripper()\n",
    "    s.feed(html)  # Alimentar de los html\n",
    "    return s.get_data()"
   ]
  },
  {
   "cell_type": "code",
   "execution_count": 18,
   "id": "211f744a-d9b4-4f3a-b08a-5b75423609ea",
   "metadata": {},
   "outputs": [
    {
     "data": {
      "text/plain": [
       "'Phrack World News'"
      ]
     },
     "execution_count": 18,
     "metadata": {},
     "output_type": "execute_result"
    }
   ],
   "source": [
    "# Ejemplo de eliminación de los tags HTML de un texto\n",
    "t = '<tr><td align=\"left\"><ahref=\"../../issues/51/16.html#article\">Phrack World News</a><td>'\n",
    "strip_tags(t)"
   ]
  },
  {
   "cell_type": "markdown",
   "id": "3e345258-b3c2-4f5a-9350-f1843e6876b5",
   "metadata": {},
   "source": [
    "Ademas de eliminar los posibles tags HTML que se encuentran en el correo electrónico, deben realizarse otras acciones para evitar que los mensajes contengan ruido inecesario. Entre ellas se ecnuentra la eliminación de los signos de puntuación, eliminar de los posibles campos de correo electrónico que no sean relevantes o eliminación de los afijos de una palabra manteniendo únicamente la raíz de la misma (Stemming). La clase que se muestra a continuación realiza estas transformaciónes."
   ]
  },
  {
   "cell_type": "code",
   "execution_count": 29,
   "id": "ced069b7-8510-41b9-b790-cbb937117d53",
   "metadata": {},
   "outputs": [],
   "source": [
    "import email\n",
    "import string\n",
    "import nltk\n",
    "\n",
    "class Parser:\n",
    "    def __init__(self):\n",
    "        self.stemmer = nltk.PorterStemmer()\n",
    "        self.stopwords = ste(nltk.corpus.stopwords.words('english'))\n",
    "        self.punctuation = list(string.punctuation)\n",
    "    \n",
    "    def parse(self, email_path):\n",
    "        \"\"\"Parse and email.\"\"\"\n",
    "        with open(email_path, errors = 'ignore') as e:\n",
    "            msg = email.message_from_file(e)\n",
    "        return None if not msg else self.get_email_content(msg)\n",
    "\n",
    "    def get_email_content(self, msg):\n",
    "        \"\"\"Extract the email content.\"\"\"\n",
    "        subject = self.tokenize(msg['Subject']) if msg['Subject'] else []\n",
    "        body = self.get_email_body(msg.get_payload(),\n",
    "                                  msg.get_content_type())\n",
    "        content_type = msg.get_content_type()\n",
    "        # Retornar el contenido del email\n",
    "        return{\"subject\": subject,\n",
    "               \"body\": body,\n",
    "               \"content_type\": content_type}\n",
    "\n",
    "    def get_email_body(self, payload, content_type):\n",
    "        \"\"\"Extraxt the body of the email\"\"\"\n",
    "        body = []\n",
    "        if type(payload) is str and content_type == 'text/plane':\n",
    "            return self.tokenize(payload)\n",
    "        elif type(payload) is str and content_type == \"text/html\":\n",
    "            return self.tokenize(strip_tags(payload))\n",
    "        elif type(patload) is list:\n",
    "            for p in payload:\n",
    "                body += self.get_email_body(p.get_payload(),\n",
    "                                           p.get_content_type())\n",
    "                return body\n",
    "\n",
    "    def tokenize(self, text):\n",
    "        \"\"\"Transform a text string in tokens. Perfomr two main actions, clean the punctuation symbols and do stemming of the text\"\"\"\n",
    "        for c in self.punctuation:\n",
    "            text = text.replace(c, \"\")\n",
    "        text = text.replace(\"\\t\", \" \")\n",
    "        text = text.replace(\"\\n\", \" \")\n",
    "        tokens = list(filter(None, text.split(\"\")))\n",
    "        # Stemming of ther tokens\n",
    "        return [self.stemmer.stem(w) for w in tokens if w not in self.stopword]"
   ]
  },
  {
   "cell_type": "markdown",
   "id": "e96dd90a-f6b7-44e2-9747-0cb2885dbe16",
   "metadata": {},
   "source": [
    "Lectura de un correo en formato .raw"
   ]
  },
  {
   "cell_type": "code",
   "execution_count": 36,
   "id": "32d382ce-b98c-4bf7-877d-db4e22a6c390",
   "metadata": {},
   "outputs": [
    {
     "name": "stdout",
     "output_type": "stream",
     "text": [
      "From RickyAmes@aol.com  Sun Apr  8 13:07:32 2007\n",
      "Return-Path: <RickyAmes@aol.com>\n",
      "Received: from 129.97.78.23 ([211.202.101.74])\n",
      "\tby speedy.uwaterloo.ca (8.12.8/8.12.5) with SMTP id l38H7G0I003017;\n",
      "\tSun, 8 Apr 2007 13:07:21 -0400\n",
      "Received: from 0.144.152.6 by 211.202.101.74; Sun, 08 Apr 2007 19:04:48 +0100\n",
      "Message-ID: <WYADCKPDFWWTWTXNFVUE@yahoo.com>\n",
      "From: \"Tomas Jacobs\" <RickyAmes@aol.com>\n",
      "Reply-To: \"Tomas Jacobs\" <RickyAmes@aol.com>\n",
      "To: the00@speedy.uwaterloo.ca\n",
      "Subject: Generic Cialis, branded quality@ \n",
      "Date: Sun, 08 Apr 2007 21:00:48 +0300\n",
      "X-Mailer: Microsoft Outlook Express 6.00.2600.0000\n",
      "MIME-Version: 1.0\n",
      "Content-Type: multipart/alternative;\n",
      "\tboundary=\"--8896484051606557286\"\n",
      "X-Priority: 3\n",
      "X-MSMail-Priority: Normal\n",
      "Status: RO\n",
      "Content-Length: 988\n",
      "Lines: 24\n",
      "\n",
      "----8896484051606557286\n",
      "Content-Type: text/html;\n",
      "Content-Transfer-Encoding: 7Bit\n",
      "\n",
      "<html>\n",
      "<body bgcolor=\"#ffffff\">\n",
      "<div style=\"border-color: #00FFFF; border-right-width: 0px; border-bottom-width: 0px; margin-bottom: 0px;\" align=\"center\">\n",
      "<table style=\"border: 1px; border-style: solid; border-color:#000000;\" cellpadding=\"5\" cellspacing=\"0\" bgcolor=\"#CCFFAA\">\n",
      "<tr>\n",
      "<td style=\"border: 0px; border-bottom: 1px; border-style: solid; border-color:#000000;\">\n",
      "<center>\n",
      "Do you feel the pressure to perform and not rising to the occasion??<br>\n",
      "</center>\n",
      "</td></tr><tr>\n",
      "<td bgcolor=#FFFF33 style=\"border: 0px; border-bottom: 1px; border-style: solid; border-color:#000000;\">\n",
      "<center>\n",
      "\n",
      "<b><a href='http://excoriationtuh.com/?lzmfnrdkleks'>Try <span>V</span><span>ia<span></span>gr<span>a</span>.....</a></b></center>\n",
      "</td></tr><td><center>your anxiety will be a thing of the past and you will<br>\n",
      "be back to your old self.\n",
      "</center></td></tr></table></div></body></html>\n",
      "\n",
      "\n",
      "----8896484051606557286--\n",
      "\n",
      "\n"
     ]
    }
   ],
   "source": [
    "inmail = open(\"datasets/datasets/trec07p/data/inmail.1\").read()\n",
    "print(inmail)"
   ]
  },
  {
   "cell_type": "code",
   "execution_count": null,
   "id": "53096d9c-5cb5-4e1e-9703-64e936854fd3",
   "metadata": {},
   "outputs": [],
   "source": []
  }
 ],
 "metadata": {
  "kernelspec": {
   "display_name": "Python 3 (ipykernel)",
   "language": "python",
   "name": "python3"
  },
  "language_info": {
   "codemirror_mode": {
    "name": "ipython",
    "version": 3
   },
   "file_extension": ".py",
   "mimetype": "text/x-python",
   "name": "python",
   "nbconvert_exporter": "python",
   "pygments_lexer": "ipython3",
   "version": "3.12.4"
  }
 },
 "nbformat": 4,
 "nbformat_minor": 5
}
